{
  "nbformat": 4,
  "nbformat_minor": 0,
  "metadata": {
    "colab": {
      "name": "ModelBulding.ipynb",
      "provenance": []
    },
    "kernelspec": {
      "name": "python3",
      "display_name": "Python 3"
    },
    "language_info": {
      "name": "python"
    }
  },
  "cells": [
    {
      "cell_type": "code",
      "execution_count": 5,
      "metadata": {
        "id": "sEVGiuYbyFAy"
      },
      "outputs": [],
      "source": [
        "import pandas as pd \n",
        "import matplotlib.pyplot as plt \n",
        "import numpy as np \n",
        "import seaborn as sns"
      ]
    },
    {
      "cell_type": "code",
      "source": [
        "df = pd.read_csv('Cleaned_data.csv')"
      ],
      "metadata": {
        "id": "kDXfwpcnygFh"
      },
      "execution_count": 6,
      "outputs": []
    },
    {
      "cell_type": "code",
      "source": [
        "df.head()"
      ],
      "metadata": {
        "id": "uqtbXI1syjZ9",
        "colab": {
          "base_uri": "https://localhost:8080/",
          "height": 560
        },
        "outputId": "297c0e95-5a38-492e-99c3-7b6860eae321"
      },
      "execution_count": 7,
      "outputs": [
        {
          "output_type": "execute_result",
          "data": {
            "text/plain": [
              "   Unnamed: 0                  Job Title Salary Estimate  \\\n",
              "0           0             Data Scientist          53-91    \n",
              "1           1  Healthcare Data Scientist         63-112    \n",
              "2           2             Data Scientist          80-90    \n",
              "3           3             Data Scientist          56-97    \n",
              "4           4             Data Scientist         86-143    \n",
              "\n",
              "                                     Job Description  Rating  \\\n",
              "0  Data Scientist\\nLocation: Albuquerque, NM\\nEdu...     3.8   \n",
              "1  What You Will Do:\\n\\nI. General Summary\\n\\nThe...     3.4   \n",
              "2  KnowBe4, Inc. is a high growth information sec...     4.8   \n",
              "3  *Organization and Job ID**\\nJob ID: 310709\\n\\n...     3.8   \n",
              "4  Data Scientist\\nAffinity Solutions / Marketing...     2.9   \n",
              "\n",
              "                            Company Name         Location    Headquarters  \\\n",
              "0                      Tecolote Research  Albuquerque, NM      Goleta, CA   \n",
              "1  University of Maryland Medical System    Linthicum, MD   Baltimore, MD   \n",
              "2                                KnowBe4   Clearwater, FL  Clearwater, FL   \n",
              "3                                   PNNL     Richland, WA    Richland, WA   \n",
              "4                     Affinity Solutions     New York, NY    New York, NY   \n",
              "\n",
              "                     Size  Founded  ... age python  R spark aws  excel  \\\n",
              "0   501 to 1000 employees     1973  ...  49      1  0     0   0      1   \n",
              "1        10000+ employees     1984  ...  38      1  0     0   0      0   \n",
              "2   501 to 1000 employees     2010  ...  12      1  0     1   0      1   \n",
              "3  1001 to 5000 employees     1965  ...  57      1  0     0   0      0   \n",
              "4     51 to 200 employees     1998  ...  24      1  0     0   0      1   \n",
              "\n",
              "         Job_simp  seniority  num_comp  desc_len  \n",
              "0  data scientist         na         1      2536  \n",
              "1  data scientist         na         1      4783  \n",
              "2  data scientist         na         1      3461  \n",
              "3  data scientist         na         3      3883  \n",
              "4  data scientist         na         3      2728  \n",
              "\n",
              "[5 rows x 32 columns]"
            ],
            "text/html": [
              "\n",
              "  <div id=\"df-801bb45a-2072-4fee-a3ae-1584ea14c716\">\n",
              "    <div class=\"colab-df-container\">\n",
              "      <div>\n",
              "<style scoped>\n",
              "    .dataframe tbody tr th:only-of-type {\n",
              "        vertical-align: middle;\n",
              "    }\n",
              "\n",
              "    .dataframe tbody tr th {\n",
              "        vertical-align: top;\n",
              "    }\n",
              "\n",
              "    .dataframe thead th {\n",
              "        text-align: right;\n",
              "    }\n",
              "</style>\n",
              "<table border=\"1\" class=\"dataframe\">\n",
              "  <thead>\n",
              "    <tr style=\"text-align: right;\">\n",
              "      <th></th>\n",
              "      <th>Unnamed: 0</th>\n",
              "      <th>Job Title</th>\n",
              "      <th>Salary Estimate</th>\n",
              "      <th>Job Description</th>\n",
              "      <th>Rating</th>\n",
              "      <th>Company Name</th>\n",
              "      <th>Location</th>\n",
              "      <th>Headquarters</th>\n",
              "      <th>Size</th>\n",
              "      <th>Founded</th>\n",
              "      <th>...</th>\n",
              "      <th>age</th>\n",
              "      <th>python</th>\n",
              "      <th>R</th>\n",
              "      <th>spark</th>\n",
              "      <th>aws</th>\n",
              "      <th>excel</th>\n",
              "      <th>Job_simp</th>\n",
              "      <th>seniority</th>\n",
              "      <th>num_comp</th>\n",
              "      <th>desc_len</th>\n",
              "    </tr>\n",
              "  </thead>\n",
              "  <tbody>\n",
              "    <tr>\n",
              "      <th>0</th>\n",
              "      <td>0</td>\n",
              "      <td>Data Scientist</td>\n",
              "      <td>53-91</td>\n",
              "      <td>Data Scientist\\nLocation: Albuquerque, NM\\nEdu...</td>\n",
              "      <td>3.8</td>\n",
              "      <td>Tecolote Research</td>\n",
              "      <td>Albuquerque, NM</td>\n",
              "      <td>Goleta, CA</td>\n",
              "      <td>501 to 1000 employees</td>\n",
              "      <td>1973</td>\n",
              "      <td>...</td>\n",
              "      <td>49</td>\n",
              "      <td>1</td>\n",
              "      <td>0</td>\n",
              "      <td>0</td>\n",
              "      <td>0</td>\n",
              "      <td>1</td>\n",
              "      <td>data scientist</td>\n",
              "      <td>na</td>\n",
              "      <td>1</td>\n",
              "      <td>2536</td>\n",
              "    </tr>\n",
              "    <tr>\n",
              "      <th>1</th>\n",
              "      <td>1</td>\n",
              "      <td>Healthcare Data Scientist</td>\n",
              "      <td>63-112</td>\n",
              "      <td>What You Will Do:\\n\\nI. General Summary\\n\\nThe...</td>\n",
              "      <td>3.4</td>\n",
              "      <td>University of Maryland Medical System</td>\n",
              "      <td>Linthicum, MD</td>\n",
              "      <td>Baltimore, MD</td>\n",
              "      <td>10000+ employees</td>\n",
              "      <td>1984</td>\n",
              "      <td>...</td>\n",
              "      <td>38</td>\n",
              "      <td>1</td>\n",
              "      <td>0</td>\n",
              "      <td>0</td>\n",
              "      <td>0</td>\n",
              "      <td>0</td>\n",
              "      <td>data scientist</td>\n",
              "      <td>na</td>\n",
              "      <td>1</td>\n",
              "      <td>4783</td>\n",
              "    </tr>\n",
              "    <tr>\n",
              "      <th>2</th>\n",
              "      <td>2</td>\n",
              "      <td>Data Scientist</td>\n",
              "      <td>80-90</td>\n",
              "      <td>KnowBe4, Inc. is a high growth information sec...</td>\n",
              "      <td>4.8</td>\n",
              "      <td>KnowBe4</td>\n",
              "      <td>Clearwater, FL</td>\n",
              "      <td>Clearwater, FL</td>\n",
              "      <td>501 to 1000 employees</td>\n",
              "      <td>2010</td>\n",
              "      <td>...</td>\n",
              "      <td>12</td>\n",
              "      <td>1</td>\n",
              "      <td>0</td>\n",
              "      <td>1</td>\n",
              "      <td>0</td>\n",
              "      <td>1</td>\n",
              "      <td>data scientist</td>\n",
              "      <td>na</td>\n",
              "      <td>1</td>\n",
              "      <td>3461</td>\n",
              "    </tr>\n",
              "    <tr>\n",
              "      <th>3</th>\n",
              "      <td>3</td>\n",
              "      <td>Data Scientist</td>\n",
              "      <td>56-97</td>\n",
              "      <td>*Organization and Job ID**\\nJob ID: 310709\\n\\n...</td>\n",
              "      <td>3.8</td>\n",
              "      <td>PNNL</td>\n",
              "      <td>Richland, WA</td>\n",
              "      <td>Richland, WA</td>\n",
              "      <td>1001 to 5000 employees</td>\n",
              "      <td>1965</td>\n",
              "      <td>...</td>\n",
              "      <td>57</td>\n",
              "      <td>1</td>\n",
              "      <td>0</td>\n",
              "      <td>0</td>\n",
              "      <td>0</td>\n",
              "      <td>0</td>\n",
              "      <td>data scientist</td>\n",
              "      <td>na</td>\n",
              "      <td>3</td>\n",
              "      <td>3883</td>\n",
              "    </tr>\n",
              "    <tr>\n",
              "      <th>4</th>\n",
              "      <td>4</td>\n",
              "      <td>Data Scientist</td>\n",
              "      <td>86-143</td>\n",
              "      <td>Data Scientist\\nAffinity Solutions / Marketing...</td>\n",
              "      <td>2.9</td>\n",
              "      <td>Affinity Solutions</td>\n",
              "      <td>New York, NY</td>\n",
              "      <td>New York, NY</td>\n",
              "      <td>51 to 200 employees</td>\n",
              "      <td>1998</td>\n",
              "      <td>...</td>\n",
              "      <td>24</td>\n",
              "      <td>1</td>\n",
              "      <td>0</td>\n",
              "      <td>0</td>\n",
              "      <td>0</td>\n",
              "      <td>1</td>\n",
              "      <td>data scientist</td>\n",
              "      <td>na</td>\n",
              "      <td>3</td>\n",
              "      <td>2728</td>\n",
              "    </tr>\n",
              "  </tbody>\n",
              "</table>\n",
              "<p>5 rows × 32 columns</p>\n",
              "</div>\n",
              "      <button class=\"colab-df-convert\" onclick=\"convertToInteractive('df-801bb45a-2072-4fee-a3ae-1584ea14c716')\"\n",
              "              title=\"Convert this dataframe to an interactive table.\"\n",
              "              style=\"display:none;\">\n",
              "        \n",
              "  <svg xmlns=\"http://www.w3.org/2000/svg\" height=\"24px\"viewBox=\"0 0 24 24\"\n",
              "       width=\"24px\">\n",
              "    <path d=\"M0 0h24v24H0V0z\" fill=\"none\"/>\n",
              "    <path d=\"M18.56 5.44l.94 2.06.94-2.06 2.06-.94-2.06-.94-.94-2.06-.94 2.06-2.06.94zm-11 1L8.5 8.5l.94-2.06 2.06-.94-2.06-.94L8.5 2.5l-.94 2.06-2.06.94zm10 10l.94 2.06.94-2.06 2.06-.94-2.06-.94-.94-2.06-.94 2.06-2.06.94z\"/><path d=\"M17.41 7.96l-1.37-1.37c-.4-.4-.92-.59-1.43-.59-.52 0-1.04.2-1.43.59L10.3 9.45l-7.72 7.72c-.78.78-.78 2.05 0 2.83L4 21.41c.39.39.9.59 1.41.59.51 0 1.02-.2 1.41-.59l7.78-7.78 2.81-2.81c.8-.78.8-2.07 0-2.86zM5.41 20L4 18.59l7.72-7.72 1.47 1.35L5.41 20z\"/>\n",
              "  </svg>\n",
              "      </button>\n",
              "      \n",
              "  <style>\n",
              "    .colab-df-container {\n",
              "      display:flex;\n",
              "      flex-wrap:wrap;\n",
              "      gap: 12px;\n",
              "    }\n",
              "\n",
              "    .colab-df-convert {\n",
              "      background-color: #E8F0FE;\n",
              "      border: none;\n",
              "      border-radius: 50%;\n",
              "      cursor: pointer;\n",
              "      display: none;\n",
              "      fill: #1967D2;\n",
              "      height: 32px;\n",
              "      padding: 0 0 0 0;\n",
              "      width: 32px;\n",
              "    }\n",
              "\n",
              "    .colab-df-convert:hover {\n",
              "      background-color: #E2EBFA;\n",
              "      box-shadow: 0px 1px 2px rgba(60, 64, 67, 0.3), 0px 1px 3px 1px rgba(60, 64, 67, 0.15);\n",
              "      fill: #174EA6;\n",
              "    }\n",
              "\n",
              "    [theme=dark] .colab-df-convert {\n",
              "      background-color: #3B4455;\n",
              "      fill: #D2E3FC;\n",
              "    }\n",
              "\n",
              "    [theme=dark] .colab-df-convert:hover {\n",
              "      background-color: #434B5C;\n",
              "      box-shadow: 0px 1px 3px 1px rgba(0, 0, 0, 0.15);\n",
              "      filter: drop-shadow(0px 1px 2px rgba(0, 0, 0, 0.3));\n",
              "      fill: #FFFFFF;\n",
              "    }\n",
              "  </style>\n",
              "\n",
              "      <script>\n",
              "        const buttonEl =\n",
              "          document.querySelector('#df-801bb45a-2072-4fee-a3ae-1584ea14c716 button.colab-df-convert');\n",
              "        buttonEl.style.display =\n",
              "          google.colab.kernel.accessAllowed ? 'block' : 'none';\n",
              "\n",
              "        async function convertToInteractive(key) {\n",
              "          const element = document.querySelector('#df-801bb45a-2072-4fee-a3ae-1584ea14c716');\n",
              "          const dataTable =\n",
              "            await google.colab.kernel.invokeFunction('convertToInteractive',\n",
              "                                                     [key], {});\n",
              "          if (!dataTable) return;\n",
              "\n",
              "          const docLinkHtml = 'Like what you see? Visit the ' +\n",
              "            '<a target=\"_blank\" href=https://colab.research.google.com/notebooks/data_table.ipynb>data table notebook</a>'\n",
              "            + ' to learn more about interactive tables.';\n",
              "          element.innerHTML = '';\n",
              "          dataTable['output_type'] = 'display_data';\n",
              "          await google.colab.output.renderOutput(dataTable, element);\n",
              "          const docLink = document.createElement('div');\n",
              "          docLink.innerHTML = docLinkHtml;\n",
              "          element.appendChild(docLink);\n",
              "        }\n",
              "      </script>\n",
              "    </div>\n",
              "  </div>\n",
              "  "
            ]
          },
          "metadata": {},
          "execution_count": 7
        }
      ]
    },
    {
      "cell_type": "code",
      "source": [
        "df.info()"
      ],
      "metadata": {
        "colab": {
          "base_uri": "https://localhost:8080/"
        },
        "id": "v8xV7-kQzNp_",
        "outputId": "110bbe69-4a93-48e2-cba3-cab1a2534a88"
      },
      "execution_count": 8,
      "outputs": [
        {
          "output_type": "stream",
          "name": "stdout",
          "text": [
            "<class 'pandas.core.frame.DataFrame'>\n",
            "RangeIndex: 742 entries, 0 to 741\n",
            "Data columns (total 32 columns):\n",
            " #   Column             Non-Null Count  Dtype  \n",
            "---  ------             --------------  -----  \n",
            " 0   Unnamed: 0         742 non-null    int64  \n",
            " 1   Job Title          742 non-null    object \n",
            " 2   Salary Estimate    742 non-null    object \n",
            " 3   Job Description    742 non-null    object \n",
            " 4   Rating             742 non-null    float64\n",
            " 5   Company Name       742 non-null    object \n",
            " 6   Location           742 non-null    object \n",
            " 7   Headquarters       742 non-null    object \n",
            " 8   Size               742 non-null    object \n",
            " 9   Founded            742 non-null    int64  \n",
            " 10  Type of ownership  742 non-null    object \n",
            " 11  Industry           742 non-null    object \n",
            " 12  Sector             742 non-null    object \n",
            " 13  Revenue            742 non-null    object \n",
            " 14  Competitors        742 non-null    object \n",
            " 15  hourly             742 non-null    int64  \n",
            " 16  employer_provided  742 non-null    int64  \n",
            " 17  min_salary         742 non-null    int64  \n",
            " 18  max_salary         742 non-null    int64  \n",
            " 19  avg_salary         742 non-null    float64\n",
            " 20  job_state          742 non-null    object \n",
            " 21  same_location      742 non-null    int64  \n",
            " 22  age                742 non-null    int64  \n",
            " 23  python             742 non-null    int64  \n",
            " 24  R                  742 non-null    int64  \n",
            " 25  spark              742 non-null    int64  \n",
            " 26  aws                742 non-null    int64  \n",
            " 27  excel              742 non-null    int64  \n",
            " 28  Job_simp           742 non-null    object \n",
            " 29  seniority          742 non-null    object \n",
            " 30  num_comp           742 non-null    int64  \n",
            " 31  desc_len           742 non-null    int64  \n",
            "dtypes: float64(2), int64(15), object(15)\n",
            "memory usage: 185.6+ KB\n"
          ]
        }
      ]
    },
    {
      "cell_type": "code",
      "source": [
        "df_model = df[['avg_salary','Size','Type of ownership','Industry','num_comp',\n",
        "        'job_state','age','python','excel','Job_simp',]]"
      ],
      "metadata": {
        "id": "mqAwdEyPIXv1"
      },
      "execution_count": 80,
      "outputs": []
    },
    {
      "cell_type": "markdown",
      "source": [
        "**columns to be used for model building**\n",
        "\n",
        "\n",
        "1.   avg_salary(dependent feature)\n",
        "2.   Type of ownership\n",
        "              Company - Private                 410\n",
        "              Company - Public                  193\n",
        "              Nonprofit Organization             55\n",
        "              Subsidiary or Business Segment     34\n",
        "              Government                         15\n",
        "              Hospital                           15\n",
        "              College / University               13\n",
        "              Other Organization                  3\n",
        "              School / School District            2\n",
        "              Unknown                             1 \n",
        "\n",
        "3.   Size (  Number of employes)\n",
        "\n",
        "          001 to 5000 employees     150\n",
        "          501 to 1000 employees     134\n",
        "          10000+ employees          130\n",
        "          201 to 500 employees      117\n",
        "          51 to 200 employees        94\n",
        "          5001 to 10000 employees    76\n",
        "          1 to 50 employees          31\n",
        "          Unknown                     9 \n",
        "4. Industry\n",
        "5. Sector\n",
        "6. num_comp( Number of competators)\n",
        "\n",
        "          1    472\n",
        "          3    228\n",
        "          2     41\n",
        "          4      1 \n",
        "7. job_state (38 states)\n",
        "8. same_location( check weather job state is  same that of  headquaters)\n",
        "9. age (Number of years since the company is present in market)\n",
        "10. python (if job role consists of python in description)\n",
        "11. excel (if job role consists of excel in description)\n",
        "12. Job_simp ( job positions )\n",
        "          data scientist    279\n",
        "          na                184\n",
        "          data engineer     119\n",
        "          analyst           102\n",
        "          manager            22\n",
        "          mle                22\n",
        "          director           14"
      ],
      "metadata": {
        "id": "hgFpuoZHMT3Q"
      }
    },
    {
      "cell_type": "code",
      "source": [
        "df_model.info()"
      ],
      "metadata": {
        "colab": {
          "base_uri": "https://localhost:8080/"
        },
        "id": "nXVc1FJdL50P",
        "outputId": "2e6fcf04-c331-4c32-843d-c1ef2d1a44ef"
      },
      "execution_count": 10,
      "outputs": [
        {
          "output_type": "stream",
          "name": "stdout",
          "text": [
            "<class 'pandas.core.frame.DataFrame'>\n",
            "RangeIndex: 742 entries, 0 to 741\n",
            "Data columns (total 12 columns):\n",
            " #   Column             Non-Null Count  Dtype  \n",
            "---  ------             --------------  -----  \n",
            " 0   avg_salary         742 non-null    float64\n",
            " 1   Size               742 non-null    object \n",
            " 2   Type of ownership  742 non-null    object \n",
            " 3   Industry           742 non-null    object \n",
            " 4   Sector             742 non-null    object \n",
            " 5   num_comp           742 non-null    int64  \n",
            " 6   job_state          742 non-null    object \n",
            " 7   same_location      742 non-null    int64  \n",
            " 8   age                742 non-null    int64  \n",
            " 9   python             742 non-null    int64  \n",
            " 10  excel              742 non-null    int64  \n",
            " 11  Job_simp           742 non-null    object \n",
            "dtypes: float64(1), int64(5), object(6)\n",
            "memory usage: 69.7+ KB\n"
          ]
        }
      ]
    },
    {
      "cell_type": "code",
      "source": [
        "# get dummy data \n",
        "df_dum = pd.get_dummies(df_model)\n"
      ],
      "metadata": {
        "id": "D6ilXGSHRnzW"
      },
      "execution_count": 81,
      "outputs": []
    },
    {
      "cell_type": "code",
      "source": [
        "X = df_dum.drop('avg_salary', axis= 'columns')\n",
        "y = df_dum['avg_salary']"
      ],
      "metadata": {
        "id": "xcpMcsX3Rz80"
      },
      "execution_count": 82,
      "outputs": []
    },
    {
      "cell_type": "code",
      "source": [
        ""
      ],
      "metadata": {
        "id": "PGpDzitGR2pL"
      },
      "execution_count": 82,
      "outputs": []
    },
    {
      "cell_type": "code",
      "source": [
        "# train test split \n",
        "from sklearn.model_selection import train_test_split"
      ],
      "metadata": {
        "id": "NGQ0y_cBSgk-"
      },
      "execution_count": 83,
      "outputs": []
    },
    {
      "cell_type": "code",
      "source": [
        "X_train, X_test, y_train, y_test = train_test_split(X, y, test_size=0.2, random_state=42)"
      ],
      "metadata": {
        "id": "G3X0l_ZNSp_8"
      },
      "execution_count": 84,
      "outputs": []
    },
    {
      "cell_type": "code",
      "source": [
        "#Lasso model\n",
        "\n",
        "from sklearn.linear_model import Lasso\n",
        "from sklearn.model_selection import cross_val_score"
      ],
      "metadata": {
        "id": "87uqb33GSy3k"
      },
      "execution_count": 85,
      "outputs": []
    },
    {
      "cell_type": "code",
      "source": [
        "lm_l = Lasso(alpha=.13)\n",
        "lm_l.fit(X_train,y_train)\n",
        "np.mean(cross_val_score(lm_l,X_train,y_train, scoring = 'neg_mean_absolute_error', cv= 3))\n"
      ],
      "metadata": {
        "colab": {
          "base_uri": "https://localhost:8080/"
        },
        "id": "5Y1WYLAaS7iK",
        "outputId": "62bf3bfa-79c8-4e46-8f91-5cdac2e7ffe7"
      },
      "execution_count": 86,
      "outputs": [
        {
          "output_type": "execute_result",
          "data": {
            "text/plain": [
              "-22.867078903517182"
            ]
          },
          "metadata": {},
          "execution_count": 86
        }
      ]
    },
    {
      "cell_type": "code",
      "source": [
        "#RandomForestRegressor model\n",
        "\n",
        "from sklearn.ensemble import RandomForestRegressor\n",
        "rf = RandomForestRegressor()\n",
        "\n",
        "np.mean(cross_val_score(rf,X_train,y_train,scoring = 'neg_mean_absolute_error', cv= 3))"
      ],
      "metadata": {
        "colab": {
          "base_uri": "https://localhost:8080/"
        },
        "id": "L2zTMhxmTPdH",
        "outputId": "59cb70b2-c56e-436d-89bf-5007c0d39225"
      },
      "execution_count": 104,
      "outputs": [
        {
          "output_type": "execute_result",
          "data": {
            "text/plain": [
              "-17.116504761646798"
            ]
          },
          "metadata": {},
          "execution_count": 104
        }
      ]
    },
    {
      "cell_type": "code",
      "source": [
        "from sklearn.model_selection import RandomizedSearchCV"
      ],
      "metadata": {
        "id": "qJu41mYYT2Ai"
      },
      "execution_count": 88,
      "outputs": []
    },
    {
      "cell_type": "code",
      "source": [
        " #Randomized Search CV\n",
        "\n",
        "# Number of trees in random forest\n",
        "n_estimators = [int(x) for x in np.linspace(start = 100, stop = 1200, num = 12)]\n",
        "# Number of features to consider at every split\n",
        "max_features = ['auto', 'sqrt']\n",
        "# Maximum number of levels in tree\n",
        "max_depth = [int(x) for x in np.linspace(5, 30, num = 6)]\n",
        "# max_depth.append(None)\n",
        "# Minimum number of samples required to split a node\n",
        "min_samples_split = [2, 5, 10, 15, 100]\n",
        "# Minimum number of samples required at each leaf node\n",
        "min_samples_leaf = [1, 2, 5, 10,15,20]"
      ],
      "metadata": {
        "id": "QGq9ce_KZyE8"
      },
      "execution_count": 184,
      "outputs": []
    },
    {
      "cell_type": "code",
      "source": [
        "# Create the random grid\n",
        "random_grid = {'n_estimators': n_estimators,\n",
        "               'max_features': max_features,\n",
        "               'max_depth': max_depth,\n",
        "               'min_samples_split': min_samples_split,\n",
        "               'min_samples_leaf': min_samples_leaf}\n",
        "\n",
        "print(random_grid)"
      ],
      "metadata": {
        "colab": {
          "base_uri": "https://localhost:8080/"
        },
        "id": "NVwvqjfEerMt",
        "outputId": "e27fa70b-b3cc-4405-8070-b2ba0d93ba73"
      },
      "execution_count": 185,
      "outputs": [
        {
          "output_type": "stream",
          "name": "stdout",
          "text": [
            "{'n_estimators': [100, 200, 300, 400, 500, 600, 700, 800, 900, 1000, 1100, 1200], 'max_features': ['auto', 'sqrt'], 'max_depth': [5, 10, 15, 20, 25, 30], 'min_samples_split': [2, 5, 10, 15, 100], 'min_samples_leaf': [1, 2, 5, 10, 15, 20]}\n"
          ]
        }
      ]
    },
    {
      "cell_type": "code",
      "source": [
        "# Random search of parameters, using 3 fold cross validation, \n",
        "# search across 100 different combinations\n",
        "rf_random = RandomizedSearchCV(estimator = rf, param_distributions = random_grid, n_iter = 10, cv = 5, verbose=2, random_state=42, n_jobs = 1)\n"
      ],
      "metadata": {
        "id": "-m5bPBW2ewH3"
      },
      "execution_count": 190,
      "outputs": []
    },
    {
      "cell_type": "code",
      "source": [
        "rf_random.fit(X_train,y_train)"
      ],
      "metadata": {
        "colab": {
          "base_uri": "https://localhost:8080/"
        },
        "id": "widkLMsye3lm",
        "outputId": "cd9da675-c178-47d3-bc0c-1bbcd82e33b9"
      },
      "execution_count": 205,
      "outputs": [
        {
          "output_type": "stream",
          "name": "stdout",
          "text": [
            "Fitting 5 folds for each of 10 candidates, totalling 50 fits\n",
            "[CV] END max_depth=10, max_features=auto, min_samples_leaf=5, min_samples_split=5, n_estimators=900; total time=   2.6s\n",
            "[CV] END max_depth=10, max_features=auto, min_samples_leaf=5, min_samples_split=5, n_estimators=900; total time=   2.3s\n",
            "[CV] END max_depth=10, max_features=auto, min_samples_leaf=5, min_samples_split=5, n_estimators=900; total time=   2.3s\n",
            "[CV] END max_depth=10, max_features=auto, min_samples_leaf=5, min_samples_split=5, n_estimators=900; total time=   2.2s\n",
            "[CV] END max_depth=10, max_features=auto, min_samples_leaf=5, min_samples_split=5, n_estimators=900; total time=   2.3s\n",
            "[CV] END max_depth=30, max_features=auto, min_samples_leaf=5, min_samples_split=100, n_estimators=500; total time=   1.0s\n",
            "[CV] END max_depth=30, max_features=auto, min_samples_leaf=5, min_samples_split=100, n_estimators=500; total time=   1.0s\n",
            "[CV] END max_depth=30, max_features=auto, min_samples_leaf=5, min_samples_split=100, n_estimators=500; total time=   1.0s\n",
            "[CV] END max_depth=30, max_features=auto, min_samples_leaf=5, min_samples_split=100, n_estimators=500; total time=   1.0s\n",
            "[CV] END max_depth=30, max_features=auto, min_samples_leaf=5, min_samples_split=100, n_estimators=500; total time=   0.9s\n",
            "[CV] END max_depth=25, max_features=auto, min_samples_leaf=10, min_samples_split=10, n_estimators=900; total time=   3.5s\n",
            "[CV] END max_depth=25, max_features=auto, min_samples_leaf=10, min_samples_split=10, n_estimators=900; total time=   2.2s\n",
            "[CV] END max_depth=25, max_features=auto, min_samples_leaf=10, min_samples_split=10, n_estimators=900; total time=   2.9s\n",
            "[CV] END max_depth=25, max_features=auto, min_samples_leaf=10, min_samples_split=10, n_estimators=900; total time=   2.0s\n",
            "[CV] END max_depth=25, max_features=auto, min_samples_leaf=10, min_samples_split=10, n_estimators=900; total time=   3.1s\n",
            "[CV] END max_depth=5, max_features=sqrt, min_samples_leaf=2, min_samples_split=15, n_estimators=1100; total time=   1.5s\n",
            "[CV] END max_depth=5, max_features=sqrt, min_samples_leaf=2, min_samples_split=15, n_estimators=1100; total time=   1.5s\n",
            "[CV] END max_depth=5, max_features=sqrt, min_samples_leaf=2, min_samples_split=15, n_estimators=1100; total time=   2.5s\n",
            "[CV] END max_depth=5, max_features=sqrt, min_samples_leaf=2, min_samples_split=15, n_estimators=1100; total time=   1.5s\n",
            "[CV] END max_depth=5, max_features=sqrt, min_samples_leaf=2, min_samples_split=15, n_estimators=1100; total time=   1.5s\n",
            "[CV] END max_depth=25, max_features=sqrt, min_samples_leaf=10, min_samples_split=10, n_estimators=100; total time=   0.1s\n",
            "[CV] END max_depth=25, max_features=sqrt, min_samples_leaf=10, min_samples_split=10, n_estimators=100; total time=   0.1s\n",
            "[CV] END max_depth=25, max_features=sqrt, min_samples_leaf=10, min_samples_split=10, n_estimators=100; total time=   0.1s\n",
            "[CV] END max_depth=25, max_features=sqrt, min_samples_leaf=10, min_samples_split=10, n_estimators=100; total time=   0.1s\n",
            "[CV] END max_depth=25, max_features=sqrt, min_samples_leaf=10, min_samples_split=10, n_estimators=100; total time=   0.1s\n",
            "[CV] END max_depth=25, max_features=auto, min_samples_leaf=15, min_samples_split=100, n_estimators=400; total time=   0.7s\n",
            "[CV] END max_depth=25, max_features=auto, min_samples_leaf=15, min_samples_split=100, n_estimators=400; total time=   0.7s\n",
            "[CV] END max_depth=25, max_features=auto, min_samples_leaf=15, min_samples_split=100, n_estimators=400; total time=   0.7s\n",
            "[CV] END max_depth=25, max_features=auto, min_samples_leaf=15, min_samples_split=100, n_estimators=400; total time=   0.7s\n",
            "[CV] END max_depth=25, max_features=auto, min_samples_leaf=15, min_samples_split=100, n_estimators=400; total time=   0.7s\n",
            "[CV] END max_depth=25, max_features=auto, min_samples_leaf=1, min_samples_split=15, n_estimators=400; total time=   1.2s\n",
            "[CV] END max_depth=25, max_features=auto, min_samples_leaf=1, min_samples_split=15, n_estimators=400; total time=   1.2s\n",
            "[CV] END max_depth=25, max_features=auto, min_samples_leaf=1, min_samples_split=15, n_estimators=400; total time=   1.2s\n",
            "[CV] END max_depth=25, max_features=auto, min_samples_leaf=1, min_samples_split=15, n_estimators=400; total time=   1.2s\n",
            "[CV] END max_depth=25, max_features=auto, min_samples_leaf=1, min_samples_split=15, n_estimators=400; total time=   1.2s\n",
            "[CV] END max_depth=5, max_features=auto, min_samples_leaf=5, min_samples_split=2, n_estimators=1100; total time=   2.3s\n",
            "[CV] END max_depth=5, max_features=auto, min_samples_leaf=5, min_samples_split=2, n_estimators=1100; total time=   2.3s\n",
            "[CV] END max_depth=5, max_features=auto, min_samples_leaf=5, min_samples_split=2, n_estimators=1100; total time=   2.3s\n",
            "[CV] END max_depth=5, max_features=auto, min_samples_leaf=5, min_samples_split=2, n_estimators=1100; total time=   2.3s\n",
            "[CV] END max_depth=5, max_features=auto, min_samples_leaf=5, min_samples_split=2, n_estimators=1100; total time=   2.3s\n",
            "[CV] END max_depth=15, max_features=auto, min_samples_leaf=15, min_samples_split=2, n_estimators=600; total time=   1.2s\n",
            "[CV] END max_depth=15, max_features=auto, min_samples_leaf=15, min_samples_split=2, n_estimators=600; total time=   1.2s\n",
            "[CV] END max_depth=15, max_features=auto, min_samples_leaf=15, min_samples_split=2, n_estimators=600; total time=   1.2s\n",
            "[CV] END max_depth=15, max_features=auto, min_samples_leaf=15, min_samples_split=2, n_estimators=600; total time=   1.2s\n",
            "[CV] END max_depth=15, max_features=auto, min_samples_leaf=15, min_samples_split=2, n_estimators=600; total time=   1.2s\n",
            "[CV] END max_depth=10, max_features=auto, min_samples_leaf=1, min_samples_split=100, n_estimators=200; total time=   0.4s\n",
            "[CV] END max_depth=10, max_features=auto, min_samples_leaf=1, min_samples_split=100, n_estimators=200; total time=   0.4s\n",
            "[CV] END max_depth=10, max_features=auto, min_samples_leaf=1, min_samples_split=100, n_estimators=200; total time=   0.4s\n",
            "[CV] END max_depth=10, max_features=auto, min_samples_leaf=1, min_samples_split=100, n_estimators=200; total time=   0.4s\n",
            "[CV] END max_depth=10, max_features=auto, min_samples_leaf=1, min_samples_split=100, n_estimators=200; total time=   0.4s\n"
          ]
        },
        {
          "output_type": "execute_result",
          "data": {
            "text/plain": [
              "RandomizedSearchCV(cv=5, estimator=RandomForestRegressor(), n_jobs=1,\n",
              "                   param_distributions={'max_depth': [5, 10, 15, 20, 25, 30],\n",
              "                                        'max_features': ['auto', 'sqrt'],\n",
              "                                        'min_samples_leaf': [1, 2, 5, 10, 15,\n",
              "                                                             20],\n",
              "                                        'min_samples_split': [2, 5, 10, 15,\n",
              "                                                              100],\n",
              "                                        'n_estimators': [100, 200, 300, 400,\n",
              "                                                         500, 600, 700, 800,\n",
              "                                                         900, 1000, 1100,\n",
              "                                                         1200]},\n",
              "                   random_state=42, verbose=2)"
            ]
          },
          "metadata": {},
          "execution_count": 205
        }
      ]
    },
    {
      "cell_type": "code",
      "source": [
        "rf_random.best_params_\n"
      ],
      "metadata": {
        "colab": {
          "base_uri": "https://localhost:8080/"
        },
        "id": "aBu6fwH_e9uE",
        "outputId": "fbe8848d-1460-412b-8807-be8b1811add8"
      },
      "execution_count": 206,
      "outputs": [
        {
          "output_type": "execute_result",
          "data": {
            "text/plain": [
              "{'max_depth': 25,\n",
              " 'max_features': 'auto',\n",
              " 'min_samples_leaf': 1,\n",
              " 'min_samples_split': 15,\n",
              " 'n_estimators': 400}"
            ]
          },
          "metadata": {},
          "execution_count": 206
        }
      ]
    },
    {
      "cell_type": "code",
      "source": [
        "rf_random.score(X_test,y_test)"
      ],
      "metadata": {
        "colab": {
          "base_uri": "https://localhost:8080/"
        },
        "id": "-wIL67xHfWS4",
        "outputId": "3579e0e3-690b-4296-aea3-972ea5cec1e8"
      },
      "execution_count": 207,
      "outputs": [
        {
          "output_type": "execute_result",
          "data": {
            "text/plain": [
              "0.6402610135705411"
            ]
          },
          "metadata": {},
          "execution_count": 207
        }
      ]
    },
    {
      "cell_type": "code",
      "source": [
        "predictions = rf_random.predict(X_test)"
      ],
      "metadata": {
        "id": "iUn2Un4EwsGz"
      },
      "execution_count": 208,
      "outputs": []
    },
    {
      "cell_type": "code",
      "source": [
        "from sklearn import metrics"
      ],
      "metadata": {
        "id": "wLq3jW09w2d4"
      },
      "execution_count": 209,
      "outputs": []
    },
    {
      "cell_type": "code",
      "source": [
        "print('MAE:', metrics.mean_absolute_error(y_test, predictions))\n"
      ],
      "metadata": {
        "colab": {
          "base_uri": "https://localhost:8080/"
        },
        "id": "cIWTMOPaq1Pm",
        "outputId": "fa1556a9-4979-437e-9530-fa7d0d6c63a4"
      },
      "execution_count": 210,
      "outputs": [
        {
          "output_type": "stream",
          "name": "stdout",
          "text": [
            "MAE: 17.85213888482423\n"
          ]
        }
      ]
    },
    {
      "cell_type": "markdown",
      "source": [
        "This is the maximum model accuracy I am able to achieve with difference of 17k "
      ],
      "metadata": {
        "id": "DNWoOw_bzuo0"
      }
    },
    {
      "cell_type": "code",
      "source": [
        "import pickle\n",
        "file = open('Salary_predictions.pkl', 'wb')\n",
        "pickle.dump(rf_random, file)"
      ],
      "metadata": {
        "id": "3UEjerhPw1Kq"
      },
      "execution_count": 227,
      "outputs": []
    },
    {
      "cell_type": "code",
      "source": [
        ""
      ],
      "metadata": {
        "id": "3zBPJ15k07T1"
      },
      "execution_count": null,
      "outputs": []
    }
  ]
}